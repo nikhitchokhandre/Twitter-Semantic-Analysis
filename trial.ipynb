{
 "cells": [
  {
   "cell_type": "code",
   "execution_count": 1,
   "id": "c6a83efa",
   "metadata": {
    "ExecuteTime": {
     "end_time": "2024-01-07T11:02:47.708269Z",
     "start_time": "2024-01-07T11:02:41.678858Z"
    }
   },
   "outputs": [],
   "source": [
    "import numpy as np\n",
    "import pandas as pd\n",
    "import seaborn as sns\n",
    "import warnings\n",
    "import re \n",
    "import nltk\n",
    "from nltk.tokenize import word_tokenize\n",
    "from nltk.corpus import stopwords\n",
    "stopwords= nltk.corpus.stopwords.words('english')\n",
    "from nltk.stem import PorterStemmer,WordNetLemmatizer\n",
    "\n",
    "from sklearn.naive_bayes import MultinomialNB,BernoulliNB\n",
    "from sklearn.feature_extraction.text import CountVectorizer,TfidfVectorizer\n",
    "from sklearn.model_selection import train_test_split"
   ]
  },
  {
   "cell_type": "code",
   "execution_count": 2,
   "id": "37acbfa1",
   "metadata": {
    "ExecuteTime": {
     "end_time": "2024-01-07T11:02:48.054696Z",
     "start_time": "2024-01-07T11:02:47.713424Z"
    }
   },
   "outputs": [
    {
     "data": {
      "text/html": [
       "<div>\n",
       "<style scoped>\n",
       "    .dataframe tbody tr th:only-of-type {\n",
       "        vertical-align: middle;\n",
       "    }\n",
       "\n",
       "    .dataframe tbody tr th {\n",
       "        vertical-align: top;\n",
       "    }\n",
       "\n",
       "    .dataframe thead th {\n",
       "        text-align: right;\n",
       "    }\n",
       "</style>\n",
       "<table border=\"1\" class=\"dataframe\">\n",
       "  <thead>\n",
       "    <tr style=\"text-align: right;\">\n",
       "      <th></th>\n",
       "      <th>tweets</th>\n",
       "      <th>class</th>\n",
       "    </tr>\n",
       "  </thead>\n",
       "  <tbody>\n",
       "    <tr>\n",
       "      <th>0</th>\n",
       "      <td>Be aware  dirty step to get money  #staylight ...</td>\n",
       "      <td>figurative</td>\n",
       "    </tr>\n",
       "    <tr>\n",
       "      <th>1</th>\n",
       "      <td>#sarcasm for #people who don't understand #diy...</td>\n",
       "      <td>figurative</td>\n",
       "    </tr>\n",
       "    <tr>\n",
       "      <th>2</th>\n",
       "      <td>@IminworkJeremy @medsingle #DailyMail readers ...</td>\n",
       "      <td>figurative</td>\n",
       "    </tr>\n",
       "    <tr>\n",
       "      <th>3</th>\n",
       "      <td>@wilw Why do I get the feeling you like games?...</td>\n",
       "      <td>figurative</td>\n",
       "    </tr>\n",
       "    <tr>\n",
       "      <th>4</th>\n",
       "      <td>-@TeacherArthurG @rweingarten You probably jus...</td>\n",
       "      <td>figurative</td>\n",
       "    </tr>\n",
       "  </tbody>\n",
       "</table>\n",
       "</div>"
      ],
      "text/plain": [
       "                                              tweets       class\n",
       "0  Be aware  dirty step to get money  #staylight ...  figurative\n",
       "1  #sarcasm for #people who don't understand #diy...  figurative\n",
       "2  @IminworkJeremy @medsingle #DailyMail readers ...  figurative\n",
       "3  @wilw Why do I get the feeling you like games?...  figurative\n",
       "4  -@TeacherArthurG @rweingarten You probably jus...  figurative"
      ]
     },
     "execution_count": 2,
     "metadata": {},
     "output_type": "execute_result"
    }
   ],
   "source": [
    "df=pd.read_csv(\"tweet.csv\")\n",
    "df.head()"
   ]
  },
  {
   "cell_type": "code",
   "execution_count": 3,
   "id": "f7d1b138",
   "metadata": {
    "ExecuteTime": {
     "end_time": "2024-01-07T11:02:48.070477Z",
     "start_time": "2024-01-07T11:02:48.055193Z"
    }
   },
   "outputs": [],
   "source": [
    "# Basic Text Cleaning\n",
    "\n",
    "def clean_text(text):\n",
    "    \n",
    "    text=text.lower() # Lower Case\n",
    "    text = re.sub(r\"http\\S+|www\\S+|https\\S+\", \"\", text, flags=re.MULTILINE) # Remove URLs\n",
    "    text = re.sub(r\"@\\w+|\\#\", \"\", text)  # Remove mentions and hashtags\n",
    "    text = re.sub(r\"[^a-zA-Z]\", \" \", text) # Remove special characters and numbers, keep only alphabetic characters\n",
    "    text = re.sub(r\"\\s+\", \" \", text).strip()  # Remove extra spaces\n",
    "    return \"\".join(text)"
   ]
  },
  {
   "cell_type": "code",
   "execution_count": 4,
   "id": "26d47ec1",
   "metadata": {
    "ExecuteTime": {
     "end_time": "2024-01-07T11:02:48.085933Z",
     "start_time": "2024-01-07T11:02:48.073554Z"
    }
   },
   "outputs": [],
   "source": [
    "# Tokenization\n",
    "def tokenize_text(text):\n",
    "    return word_tokenize(text)"
   ]
  },
  {
   "cell_type": "code",
   "execution_count": 5,
   "id": "37646522",
   "metadata": {
    "ExecuteTime": {
     "end_time": "2024-01-07T11:02:48.101730Z",
     "start_time": "2024-01-07T11:02:48.087125Z"
    }
   },
   "outputs": [],
   "source": [
    "# Stopword Removal\n",
    "def remove_stopwords(tokens):\n",
    "    return [word for word in tokens if word not in stopwords]"
   ]
  },
  {
   "cell_type": "code",
   "execution_count": 6,
   "id": "a4b6f1f1",
   "metadata": {
    "ExecuteTime": {
     "end_time": "2024-01-07T11:02:48.124476Z",
     "start_time": "2024-01-07T11:02:48.103287Z"
    }
   },
   "outputs": [],
   "source": [
    "# Lemmatization\n",
    "def lemmatize_text(tokens):\n",
    "    lm=WordNetLemmatizer()\n",
    "    return \" \".join([lm.lemmatize(token,pos='v') for token in tokens])"
   ]
  },
  {
   "cell_type": "code",
   "execution_count": 7,
   "id": "92db6f3b",
   "metadata": {
    "ExecuteTime": {
     "end_time": "2024-01-07T11:03:09.298285Z",
     "start_time": "2024-01-07T11:02:48.126962Z"
    }
   },
   "outputs": [],
   "source": [
    "df[\"cleaned_tweets\"]=df[\"tweets\"].apply(clean_text)\n",
    "df['tokens'] = df['cleaned_tweets'].apply(tokenize_text)\n",
    "df['tokens'] = df['tokens'].apply(remove_stopwords)\n",
    "df['lemmatized_tokens'] = df['tokens'].apply(lemmatize_text)"
   ]
  },
  {
   "cell_type": "code",
   "execution_count": 8,
   "id": "7ef5dc1a",
   "metadata": {
    "ExecuteTime": {
     "end_time": "2024-01-07T11:03:09.328784Z",
     "start_time": "2024-01-07T11:03:09.298285Z"
    }
   },
   "outputs": [],
   "source": [
    "Xfeatures=df['lemmatized_tokens']\n",
    "ylabels=df['class']\n",
    "#train test split\n",
    "x_train,x_test,y_train,y_test=train_test_split(Xfeatures,ylabels,test_size=0.2,random_state=41)"
   ]
  },
  {
   "cell_type": "code",
   "execution_count": 9,
   "id": "83ea93cf",
   "metadata": {
    "ExecuteTime": {
     "end_time": "2024-01-07T11:03:09.355487Z",
     "start_time": "2024-01-07T11:03:09.330782Z"
    }
   },
   "outputs": [],
   "source": [
    "from sklearn.pipeline import Pipeline\n",
    "# Naive bayes Pipeline\n",
    "pipe_lr=Pipeline(steps=[('cv',CountVectorizer()),('mnb',MultinomialNB())])\n",
    "#pipe_lr=Pipeline(steps=[('tf',TfidfVectorizer()),('bnb',BernoulliNB())])"
   ]
  },
  {
   "cell_type": "code",
   "execution_count": 10,
   "id": "be07074d",
   "metadata": {
    "ExecuteTime": {
     "end_time": "2024-01-07T11:03:11.138787Z",
     "start_time": "2024-01-07T11:03:09.363536Z"
    }
   },
   "outputs": [
    {
     "data": {
      "text/plain": [
       "0.6276870163370594"
      ]
     },
     "execution_count": 10,
     "metadata": {},
     "output_type": "execute_result"
    }
   ],
   "source": [
    "pipe_lr.fit(x_train,y_train)\n",
    "pipe_lr.score(x_test,y_test)"
   ]
  },
  {
   "cell_type": "code",
   "execution_count": 11,
   "id": "09136fc5",
   "metadata": {
    "ExecuteTime": {
     "end_time": "2024-01-07T11:03:11.494452Z",
     "start_time": "2024-01-07T11:03:11.143317Z"
    }
   },
   "outputs": [],
   "source": [
    "import joblib\n",
    "pipeline_file=open('trial_tweet.pkl',\"wb\")\n",
    "joblib.dump(pipe_lr,pipeline_file)\n",
    "pipeline_file.close()"
   ]
  }
 ],
 "metadata": {
  "kernelspec": {
   "display_name": "Python 3 (ipykernel)",
   "language": "python",
   "name": "python3"
  },
  "language_info": {
   "codemirror_mode": {
    "name": "ipython",
    "version": 3
   },
   "file_extension": ".py",
   "mimetype": "text/x-python",
   "name": "python",
   "nbconvert_exporter": "python",
   "pygments_lexer": "ipython3",
   "version": "3.9.13"
  }
 },
 "nbformat": 4,
 "nbformat_minor": 5
}
